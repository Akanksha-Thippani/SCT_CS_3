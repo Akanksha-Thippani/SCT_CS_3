{
  "nbformat": 4,
  "nbformat_minor": 0,
  "metadata": {
    "colab": {
      "provenance": []
    },
    "kernelspec": {
      "name": "python3",
      "display_name": "Python 3"
    },
    "language_info": {
      "name": "python"
    }
  },
  "cells": [
    {
      "cell_type": "code",
      "execution_count": 5,
      "metadata": {
        "colab": {
          "base_uri": "https://localhost:8080/"
        },
        "id": "hfQdq5zra6Tm",
        "outputId": "25e77288-dbc7-46a8-a43c-eaa5490fedd3"
      },
      "outputs": [
        {
          "output_type": "stream",
          "name": "stdout",
          "text": [
            "Enter your password: somya\n",
            "Weak Password\n"
          ]
        }
      ],
      "source": [
        "def check_password_strength(password):\n",
        "    strength = 0\n",
        "\n",
        "    if len(password) >= 8:\n",
        "        strength += 1\n",
        "    if any(c.islower() for c in password):\n",
        "        strength += 1\n",
        "    if any(c.isupper() for c in password):\n",
        "        strength += 1\n",
        "    if any(c.isdigit() for c in password):\n",
        "        strength += 1\n",
        "    if any(c in \"!@#$%^&*()-_=+[]{};:'\\\",.<>?/|`~\" for c in password):\n",
        "        strength += 1\n",
        "\n",
        "    if strength <= 2:\n",
        "        print(\"Weak Password\")\n",
        "    elif strength == 3:\n",
        "        print(\"Moderate Password\")\n",
        "    else:\n",
        "        print(\"Strong Password\")\n",
        "\n",
        "pwd = input(\"Enter your password: \")\n",
        "check_password_strength(pwd)\n"
      ]
    }
  ]
}